{
 "cells": [
  {
   "attachments": {},
   "cell_type": "markdown",
   "metadata": {},
   "source": [
    "### Limpieza de los datos"
   ]
  },
  {
   "cell_type": "code",
   "execution_count": 2,
   "metadata": {},
   "outputs": [],
   "source": [
    "import pandas as pd\n",
    "import numpy as np\n",
    "import os\n",
    "from joblib import dump"
   ]
  },
  {
   "attachments": {},
   "cell_type": "markdown",
   "metadata": {},
   "source": [
    "Antes que nada, debemos tener en cuenta que el conjunto de datos incluye múltiples datasets (uno para cada año desde 1991 a 2023), por lo que primero debemos unirlos en uno solo."
   ]
  },
  {
   "cell_type": "code",
   "execution_count": 3,
   "metadata": {},
   "outputs": [],
   "source": [
    "years = range(1991, 2024) \n",
    "\n",
    "dfs = {}\n",
    "\n",
    "for year in years:\n",
    "    file_path = f'atp_matches_{year}.csv'\n",
    "    dfs[f'df_{year}'] = pd.read_csv(file_path)\n",
    "\n",
    "df = pd.concat(dfs.values(), ignore_index=True)"
   ]
  },
  {
   "cell_type": "code",
   "execution_count": 4,
   "metadata": {},
   "outputs": [],
   "source": [
    "df.to_csv('raw_data.csv')"
   ]
  },
  {
   "cell_type": "code",
   "execution_count": 5,
   "metadata": {},
   "outputs": [
    {
     "data": {
      "text/html": [
       "<div>\n",
       "<style scoped>\n",
       "    .dataframe tbody tr th:only-of-type {\n",
       "        vertical-align: middle;\n",
       "    }\n",
       "\n",
       "    .dataframe tbody tr th {\n",
       "        vertical-align: top;\n",
       "    }\n",
       "\n",
       "    .dataframe thead th {\n",
       "        text-align: right;\n",
       "    }\n",
       "</style>\n",
       "<table border=\"1\" class=\"dataframe\">\n",
       "  <thead>\n",
       "    <tr style=\"text-align: right;\">\n",
       "      <th></th>\n",
       "      <th>tourney_id</th>\n",
       "      <th>tourney_name</th>\n",
       "      <th>surface</th>\n",
       "      <th>draw_size</th>\n",
       "      <th>tourney_level</th>\n",
       "      <th>tourney_date</th>\n",
       "      <th>match_num</th>\n",
       "      <th>winner_id</th>\n",
       "      <th>winner_seed</th>\n",
       "      <th>winner_entry</th>\n",
       "      <th>...</th>\n",
       "      <th>l_1stIn</th>\n",
       "      <th>l_1stWon</th>\n",
       "      <th>l_2ndWon</th>\n",
       "      <th>l_SvGms</th>\n",
       "      <th>l_bpSaved</th>\n",
       "      <th>l_bpFaced</th>\n",
       "      <th>winner_rank</th>\n",
       "      <th>winner_rank_points</th>\n",
       "      <th>loser_rank</th>\n",
       "      <th>loser_rank_points</th>\n",
       "    </tr>\n",
       "  </thead>\n",
       "  <tbody>\n",
       "    <tr>\n",
       "      <th>0</th>\n",
       "      <td>1991-339</td>\n",
       "      <td>Adelaide</td>\n",
       "      <td>Hard</td>\n",
       "      <td>32</td>\n",
       "      <td>A</td>\n",
       "      <td>19901231</td>\n",
       "      <td>1</td>\n",
       "      <td>101723</td>\n",
       "      <td>NaN</td>\n",
       "      <td>NaN</td>\n",
       "      <td>...</td>\n",
       "      <td>62.0</td>\n",
       "      <td>44.0</td>\n",
       "      <td>23.0</td>\n",
       "      <td>16.0</td>\n",
       "      <td>6.0</td>\n",
       "      <td>8.0</td>\n",
       "      <td>56.0</td>\n",
       "      <td>NaN</td>\n",
       "      <td>2.0</td>\n",
       "      <td>NaN</td>\n",
       "    </tr>\n",
       "    <tr>\n",
       "      <th>1</th>\n",
       "      <td>1991-339</td>\n",
       "      <td>Adelaide</td>\n",
       "      <td>Hard</td>\n",
       "      <td>32</td>\n",
       "      <td>A</td>\n",
       "      <td>19901231</td>\n",
       "      <td>2</td>\n",
       "      <td>100946</td>\n",
       "      <td>NaN</td>\n",
       "      <td>Q</td>\n",
       "      <td>...</td>\n",
       "      <td>41.0</td>\n",
       "      <td>35.0</td>\n",
       "      <td>27.0</td>\n",
       "      <td>15.0</td>\n",
       "      <td>1.0</td>\n",
       "      <td>2.0</td>\n",
       "      <td>304.0</td>\n",
       "      <td>NaN</td>\n",
       "      <td>75.0</td>\n",
       "      <td>NaN</td>\n",
       "    </tr>\n",
       "    <tr>\n",
       "      <th>2</th>\n",
       "      <td>1991-339</td>\n",
       "      <td>Adelaide</td>\n",
       "      <td>Hard</td>\n",
       "      <td>32</td>\n",
       "      <td>A</td>\n",
       "      <td>19901231</td>\n",
       "      <td>3</td>\n",
       "      <td>101234</td>\n",
       "      <td>NaN</td>\n",
       "      <td>NaN</td>\n",
       "      <td>...</td>\n",
       "      <td>37.0</td>\n",
       "      <td>22.0</td>\n",
       "      <td>6.0</td>\n",
       "      <td>8.0</td>\n",
       "      <td>4.0</td>\n",
       "      <td>8.0</td>\n",
       "      <td>82.0</td>\n",
       "      <td>NaN</td>\n",
       "      <td>69.0</td>\n",
       "      <td>NaN</td>\n",
       "    </tr>\n",
       "    <tr>\n",
       "      <th>3</th>\n",
       "      <td>1991-339</td>\n",
       "      <td>Adelaide</td>\n",
       "      <td>Hard</td>\n",
       "      <td>32</td>\n",
       "      <td>A</td>\n",
       "      <td>19901231</td>\n",
       "      <td>4</td>\n",
       "      <td>101889</td>\n",
       "      <td>8.0</td>\n",
       "      <td>NaN</td>\n",
       "      <td>...</td>\n",
       "      <td>45.0</td>\n",
       "      <td>30.0</td>\n",
       "      <td>11.0</td>\n",
       "      <td>10.0</td>\n",
       "      <td>5.0</td>\n",
       "      <td>8.0</td>\n",
       "      <td>50.0</td>\n",
       "      <td>NaN</td>\n",
       "      <td>84.0</td>\n",
       "      <td>NaN</td>\n",
       "    </tr>\n",
       "    <tr>\n",
       "      <th>4</th>\n",
       "      <td>1991-339</td>\n",
       "      <td>Adelaide</td>\n",
       "      <td>Hard</td>\n",
       "      <td>32</td>\n",
       "      <td>A</td>\n",
       "      <td>19901231</td>\n",
       "      <td>5</td>\n",
       "      <td>101274</td>\n",
       "      <td>NaN</td>\n",
       "      <td>NaN</td>\n",
       "      <td>...</td>\n",
       "      <td>41.0</td>\n",
       "      <td>28.0</td>\n",
       "      <td>15.0</td>\n",
       "      <td>11.0</td>\n",
       "      <td>4.0</td>\n",
       "      <td>8.0</td>\n",
       "      <td>88.0</td>\n",
       "      <td>NaN</td>\n",
       "      <td>28.0</td>\n",
       "      <td>NaN</td>\n",
       "    </tr>\n",
       "  </tbody>\n",
       "</table>\n",
       "<p>5 rows × 49 columns</p>\n",
       "</div>"
      ],
      "text/plain": [
       "  tourney_id tourney_name surface  draw_size tourney_level  tourney_date  \\\n",
       "0   1991-339     Adelaide    Hard         32             A      19901231   \n",
       "1   1991-339     Adelaide    Hard         32             A      19901231   \n",
       "2   1991-339     Adelaide    Hard         32             A      19901231   \n",
       "3   1991-339     Adelaide    Hard         32             A      19901231   \n",
       "4   1991-339     Adelaide    Hard         32             A      19901231   \n",
       "\n",
       "   match_num  winner_id  winner_seed winner_entry  ... l_1stIn l_1stWon  \\\n",
       "0          1     101723          NaN          NaN  ...    62.0     44.0   \n",
       "1          2     100946          NaN            Q  ...    41.0     35.0   \n",
       "2          3     101234          NaN          NaN  ...    37.0     22.0   \n",
       "3          4     101889          8.0          NaN  ...    45.0     30.0   \n",
       "4          5     101274          NaN          NaN  ...    41.0     28.0   \n",
       "\n",
       "   l_2ndWon l_SvGms  l_bpSaved  l_bpFaced  winner_rank winner_rank_points  \\\n",
       "0      23.0    16.0        6.0        8.0         56.0                NaN   \n",
       "1      27.0    15.0        1.0        2.0        304.0                NaN   \n",
       "2       6.0     8.0        4.0        8.0         82.0                NaN   \n",
       "3      11.0    10.0        5.0        8.0         50.0                NaN   \n",
       "4      15.0    11.0        4.0        8.0         88.0                NaN   \n",
       "\n",
       "  loser_rank loser_rank_points  \n",
       "0        2.0               NaN  \n",
       "1       75.0               NaN  \n",
       "2       69.0               NaN  \n",
       "3       84.0               NaN  \n",
       "4       28.0               NaN  \n",
       "\n",
       "[5 rows x 49 columns]"
      ]
     },
     "execution_count": 5,
     "metadata": {},
     "output_type": "execute_result"
    }
   ],
   "source": [
    "df.head(5)"
   ]
  },
  {
   "cell_type": "code",
   "execution_count": 15,
   "metadata": {},
   "outputs": [
    {
     "data": {
      "text/plain": [
       "160.0"
      ]
     },
     "execution_count": 15,
     "metadata": {},
     "output_type": "execute_result"
    }
   ],
   "source": [
    "df['winner_ht'].min()"
   ]
  },
  {
   "cell_type": "code",
   "execution_count": 49,
   "metadata": {},
   "outputs": [
    {
     "data": {
      "text/plain": [
       "(105269, 49)"
      ]
     },
     "execution_count": 49,
     "metadata": {},
     "output_type": "execute_result"
    }
   ],
   "source": [
    "df.shape"
   ]
  },
  {
   "attachments": {},
   "cell_type": "markdown",
   "metadata": {},
   "source": [
    "El dataset inicial tiene 105.269 filas y 49 columnas."
   ]
  },
  {
   "cell_type": "code",
   "execution_count": 50,
   "metadata": {},
   "outputs": [
    {
     "name": "stdout",
     "output_type": "stream",
     "text": [
      "<class 'pandas.core.frame.DataFrame'>\n",
      "RangeIndex: 105269 entries, 0 to 105268\n",
      "Data columns (total 49 columns):\n",
      " #   Column              Non-Null Count   Dtype  \n",
      "---  ------              --------------   -----  \n",
      " 0   tourney_id          105269 non-null  object \n",
      " 1   tourney_name        105269 non-null  object \n",
      " 2   surface             105269 non-null  object \n",
      " 3   draw_size           105269 non-null  int64  \n",
      " 4   tourney_level       105269 non-null  object \n",
      " 5   tourney_date        105269 non-null  int64  \n",
      " 6   match_num           105269 non-null  int64  \n",
      " 7   winner_id           105269 non-null  int64  \n",
      " 8   winner_seed         42625 non-null   float64\n",
      " 9   winner_entry        12894 non-null   object \n",
      " 10  winner_name         105269 non-null  object \n",
      " 11  winner_hand         105260 non-null  object \n",
      " 12  winner_ht           102747 non-null  float64\n",
      " 13  winner_ioc          105269 non-null  object \n",
      " 14  winner_age          105262 non-null  float64\n",
      " 15  loser_id            105269 non-null  int64  \n",
      " 16  loser_seed          23436 non-null   float64\n",
      " 17  loser_entry         21203 non-null   object \n",
      " 18  loser_name          105269 non-null  object \n",
      " 19  loser_hand          105227 non-null  object \n",
      " 20  loser_ht            100321 non-null  float64\n",
      " 21  loser_ioc           105269 non-null  object \n",
      " 22  loser_age           105245 non-null  float64\n",
      " 23  score               105267 non-null  object \n",
      " 24  best_of             105269 non-null  int64  \n",
      " 25  round               105269 non-null  object \n",
      " 26  minutes             92121 non-null   float64\n",
      " 27  w_ace               94949 non-null   float64\n",
      " 28  w_df                94949 non-null   float64\n",
      " 29  w_svpt              94949 non-null   float64\n",
      " 30  w_1stIn             94949 non-null   float64\n",
      " 31  w_1stWon            94949 non-null   float64\n",
      " 32  w_2ndWon            94949 non-null   float64\n",
      " 33  w_SvGms             94950 non-null   float64\n",
      " 34  w_bpSaved           94949 non-null   float64\n",
      " 35  w_bpFaced           94949 non-null   float64\n",
      " 36  l_ace               94949 non-null   float64\n",
      " 37  l_df                94949 non-null   float64\n",
      " 38  l_svpt              94949 non-null   float64\n",
      " 39  l_1stIn             94949 non-null   float64\n",
      " 40  l_1stWon            94949 non-null   float64\n",
      " 41  l_2ndWon            94949 non-null   float64\n",
      " 42  l_SvGms             94950 non-null   float64\n",
      " 43  l_bpSaved           94949 non-null   float64\n",
      " 44  l_bpFaced           94949 non-null   float64\n",
      " 45  winner_rank         104069 non-null  float64\n",
      " 46  winner_rank_points  103081 non-null  float64\n",
      " 47  loser_rank          102723 non-null  float64\n",
      " 48  loser_rank_points   101740 non-null  float64\n",
      "dtypes: float64(29), int64(6), object(14)\n",
      "memory usage: 39.4+ MB\n"
     ]
    }
   ],
   "source": [
    "df.info()"
   ]
  },
  {
   "cell_type": "code",
   "execution_count": 51,
   "metadata": {},
   "outputs": [
    {
     "data": {
      "text/plain": [
       "tourney_id                0\n",
       "tourney_name              0\n",
       "surface                   0\n",
       "draw_size                 0\n",
       "tourney_level             0\n",
       "tourney_date              0\n",
       "match_num                 0\n",
       "winner_id                 0\n",
       "winner_seed           62644\n",
       "winner_entry          92375\n",
       "winner_name               0\n",
       "winner_hand               9\n",
       "winner_ht              2522\n",
       "winner_ioc                0\n",
       "winner_age                7\n",
       "loser_id                  0\n",
       "loser_seed            81833\n",
       "loser_entry           84066\n",
       "loser_name                0\n",
       "loser_hand               42\n",
       "loser_ht               4948\n",
       "loser_ioc                 0\n",
       "loser_age                24\n",
       "score                     2\n",
       "best_of                   0\n",
       "round                     0\n",
       "minutes               13148\n",
       "w_ace                 10320\n",
       "w_df                  10320\n",
       "w_svpt                10320\n",
       "w_1stIn               10320\n",
       "w_1stWon              10320\n",
       "w_2ndWon              10320\n",
       "w_SvGms               10319\n",
       "w_bpSaved             10320\n",
       "w_bpFaced             10320\n",
       "l_ace                 10320\n",
       "l_df                  10320\n",
       "l_svpt                10320\n",
       "l_1stIn               10320\n",
       "l_1stWon              10320\n",
       "l_2ndWon              10320\n",
       "l_SvGms               10319\n",
       "l_bpSaved             10320\n",
       "l_bpFaced             10320\n",
       "winner_rank            1200\n",
       "winner_rank_points     2188\n",
       "loser_rank             2546\n",
       "loser_rank_points      3529\n",
       "dtype: int64"
      ]
     },
     "execution_count": 51,
     "metadata": {},
     "output_type": "execute_result"
    }
   ],
   "source": [
    "df.isnull().sum()"
   ]
  },
  {
   "attachments": {},
   "cell_type": "markdown",
   "metadata": {},
   "source": [
    "Primero vamos a ocuparnos de los NaNs. Teniendo en cuenta que hay un total de 105.269 registros, vemos que las columnas winner_seed, winner_entry, loser_seed y loser_entry tienen valores nulos en su mayoría, de modo que las eliminamos. "
   ]
  },
  {
   "cell_type": "code",
   "execution_count": 52,
   "metadata": {},
   "outputs": [
    {
     "data": {
      "text/plain": [
       "tourney_id                0\n",
       "tourney_name              0\n",
       "surface                   0\n",
       "draw_size                 0\n",
       "tourney_level             0\n",
       "tourney_date              0\n",
       "match_num                 0\n",
       "winner_id                 0\n",
       "winner_name               0\n",
       "winner_hand               9\n",
       "winner_ht              2522\n",
       "winner_ioc                0\n",
       "winner_age                7\n",
       "loser_id                  0\n",
       "loser_name                0\n",
       "loser_hand               42\n",
       "loser_ht               4948\n",
       "loser_ioc                 0\n",
       "loser_age                24\n",
       "score                     2\n",
       "best_of                   0\n",
       "round                     0\n",
       "minutes               13148\n",
       "w_ace                 10320\n",
       "w_df                  10320\n",
       "w_svpt                10320\n",
       "w_1stIn               10320\n",
       "w_1stWon              10320\n",
       "w_2ndWon              10320\n",
       "w_SvGms               10319\n",
       "w_bpSaved             10320\n",
       "w_bpFaced             10320\n",
       "l_ace                 10320\n",
       "l_df                  10320\n",
       "l_svpt                10320\n",
       "l_1stIn               10320\n",
       "l_1stWon              10320\n",
       "l_2ndWon              10320\n",
       "l_SvGms               10319\n",
       "l_bpSaved             10320\n",
       "l_bpFaced             10320\n",
       "winner_rank            1200\n",
       "winner_rank_points     2188\n",
       "loser_rank             2546\n",
       "loser_rank_points      3529\n",
       "dtype: int64"
      ]
     },
     "execution_count": 52,
     "metadata": {},
     "output_type": "execute_result"
    }
   ],
   "source": [
    "df.drop(['winner_seed', 'winner_entry', 'loser_seed', 'loser_entry'], axis=1, inplace=True)\n",
    "df.isnull().sum()"
   ]
  },
  {
   "attachments": {},
   "cell_type": "markdown",
   "metadata": {},
   "source": [
    "Seguimos trabajando con los NaNs, empezando por los atributos con más valores nulos. En este caso la variable 'minutes'. "
   ]
  },
  {
   "cell_type": "code",
   "execution_count": 53,
   "metadata": {},
   "outputs": [
    {
     "data": {
      "text/plain": [
       "count    92121.000000\n",
       "mean       103.870757\n",
       "std         39.513006\n",
       "min          0.000000\n",
       "25%         75.000000\n",
       "50%         97.000000\n",
       "75%        125.000000\n",
       "max       1146.000000\n",
       "Name: minutes, dtype: float64"
      ]
     },
     "execution_count": 53,
     "metadata": {},
     "output_type": "execute_result"
    }
   ],
   "source": [
    "df['minutes'].describe()"
   ]
  },
  {
   "attachments": {},
   "cell_type": "markdown",
   "metadata": {},
   "source": [
    "Vemos que la distribución de los valores tiende a la distribución normal, con una media muy próxima a la mediana y poca desviación, así que imputamos la duración media de los partidos en los valores nulos."
   ]
  },
  {
   "cell_type": "code",
   "execution_count": 54,
   "metadata": {},
   "outputs": [
    {
     "data": {
      "text/plain": [
       "tourney_id                0\n",
       "tourney_name              0\n",
       "surface                   0\n",
       "draw_size                 0\n",
       "tourney_level             0\n",
       "tourney_date              0\n",
       "match_num                 0\n",
       "winner_id                 0\n",
       "winner_name               0\n",
       "winner_hand               9\n",
       "winner_ht              2522\n",
       "winner_ioc                0\n",
       "winner_age                7\n",
       "loser_id                  0\n",
       "loser_name                0\n",
       "loser_hand               42\n",
       "loser_ht               4948\n",
       "loser_ioc                 0\n",
       "loser_age                24\n",
       "score                     2\n",
       "best_of                   0\n",
       "round                     0\n",
       "minutes                   0\n",
       "w_ace                 10320\n",
       "w_df                  10320\n",
       "w_svpt                10320\n",
       "w_1stIn               10320\n",
       "w_1stWon              10320\n",
       "w_2ndWon              10320\n",
       "w_SvGms               10319\n",
       "w_bpSaved             10320\n",
       "w_bpFaced             10320\n",
       "l_ace                 10320\n",
       "l_df                  10320\n",
       "l_svpt                10320\n",
       "l_1stIn               10320\n",
       "l_1stWon              10320\n",
       "l_2ndWon              10320\n",
       "l_SvGms               10319\n",
       "l_bpSaved             10320\n",
       "l_bpFaced             10320\n",
       "winner_rank            1200\n",
       "winner_rank_points     2188\n",
       "loser_rank             2546\n",
       "loser_rank_points      3529\n",
       "dtype: int64"
      ]
     },
     "execution_count": 54,
     "metadata": {},
     "output_type": "execute_result"
    }
   ],
   "source": [
    "df['minutes'] = df['minutes'].transform(lambda x: x.fillna(x.mean()))\n",
    "df.isnull().sum()"
   ]
  },
  {
   "attachments": {},
   "cell_type": "markdown",
   "metadata": {},
   "source": [
    "Seguimos con las variables relativas a los puntos de los jugadores en el partido, de la columna 'w_ace' (servicios directos del ganador) a la columna 'l_bpFaced' (puntos de rotura a los que se ha enfrentado el perdedor). Vemos que cuando los atributos tienen NaNs los tienen en su conjunto, es decir, o bien se han recogido todos los datos durante el partido o no se ha recogido ninguno. \n",
    "\n",
    "Teniendo en cuenta que se trata de variables muy significativas para el modelo, y que los registros con NaNs no alcanzan el 10% del conjunto de datos, optamos por eliminar las filas en las que estas columnas tienen valores nulos."
   ]
  },
  {
   "cell_type": "code",
   "execution_count": 55,
   "metadata": {},
   "outputs": [
    {
     "data": {
      "text/plain": [
       "tourney_id               0\n",
       "tourney_name             0\n",
       "surface                  0\n",
       "draw_size                0\n",
       "tourney_level            0\n",
       "tourney_date             0\n",
       "match_num                0\n",
       "winner_id                0\n",
       "winner_name              0\n",
       "winner_hand              5\n",
       "winner_ht              373\n",
       "winner_ioc               0\n",
       "winner_age               0\n",
       "loser_id                 0\n",
       "loser_name               0\n",
       "loser_hand              24\n",
       "loser_ht              1269\n",
       "loser_ioc                0\n",
       "loser_age               17\n",
       "score                    0\n",
       "best_of                  0\n",
       "round                    0\n",
       "minutes                  0\n",
       "w_ace                    0\n",
       "w_df                     0\n",
       "w_svpt                   0\n",
       "w_1stIn                  0\n",
       "w_1stWon                 0\n",
       "w_2ndWon                 0\n",
       "w_SvGms                  0\n",
       "w_bpSaved                0\n",
       "w_bpFaced                0\n",
       "l_ace                    0\n",
       "l_df                     0\n",
       "l_svpt                   0\n",
       "l_1stIn                  0\n",
       "l_1stWon                 0\n",
       "l_2ndWon                 0\n",
       "l_SvGms                  0\n",
       "l_bpSaved                0\n",
       "l_bpFaced                0\n",
       "winner_rank            280\n",
       "winner_rank_points    1227\n",
       "loser_rank             615\n",
       "loser_rank_points     1556\n",
       "dtype: int64"
      ]
     },
     "execution_count": 55,
     "metadata": {},
     "output_type": "execute_result"
    }
   ],
   "source": [
    "columns_to_drop_na = ['w_ace', 'w_df', 'w_svpt', 'w_1stIn', 'w_1stWon', 'w_2ndWon', \n",
    "                      'w_SvGms', 'w_bpSaved', 'w_bpFaced', 'l_ace', 'l_df', 'l_svpt', \n",
    "                      'l_1stIn', 'l_1stWon', 'l_2ndWon', 'l_SvGms', 'l_bpSaved', 'l_bpFaced']\n",
    "\n",
    "df.dropna(subset=columns_to_drop_na, inplace=True)\n",
    "df.isnull().sum()"
   ]
  },
  {
   "attachments": {},
   "cell_type": "markdown",
   "metadata": {},
   "source": [
    "Seguimos con los atributos relativos a los puntos de clasificación de los jugadores. Teniendo en cuenta que el dato relevante para el modelo es el ranking del jugador, y no los puntos, eliminamos las columnas 'winner_rank_points' y 'loser_rank_points'."
   ]
  },
  {
   "cell_type": "code",
   "execution_count": 56,
   "metadata": {},
   "outputs": [
    {
     "data": {
      "text/plain": [
       "tourney_id          0\n",
       "tourney_name        0\n",
       "surface             0\n",
       "draw_size           0\n",
       "tourney_level       0\n",
       "tourney_date        0\n",
       "match_num           0\n",
       "winner_id           0\n",
       "winner_name         0\n",
       "winner_hand         5\n",
       "winner_ht         373\n",
       "winner_ioc          0\n",
       "winner_age          0\n",
       "loser_id            0\n",
       "loser_name          0\n",
       "loser_hand         24\n",
       "loser_ht         1269\n",
       "loser_ioc           0\n",
       "loser_age          17\n",
       "score               0\n",
       "best_of             0\n",
       "round               0\n",
       "minutes             0\n",
       "w_ace               0\n",
       "w_df                0\n",
       "w_svpt              0\n",
       "w_1stIn             0\n",
       "w_1stWon            0\n",
       "w_2ndWon            0\n",
       "w_SvGms             0\n",
       "w_bpSaved           0\n",
       "w_bpFaced           0\n",
       "l_ace               0\n",
       "l_df                0\n",
       "l_svpt              0\n",
       "l_1stIn             0\n",
       "l_1stWon            0\n",
       "l_2ndWon            0\n",
       "l_SvGms             0\n",
       "l_bpSaved           0\n",
       "l_bpFaced           0\n",
       "winner_rank       280\n",
       "loser_rank        615\n",
       "dtype: int64"
      ]
     },
     "execution_count": 56,
     "metadata": {},
     "output_type": "execute_result"
    }
   ],
   "source": [
    "df.drop(['winner_rank_points', 'loser_rank_points'], axis=1, inplace=True)\n",
    "df.isnull().sum()"
   ]
  },
  {
   "attachments": {},
   "cell_type": "markdown",
   "metadata": {},
   "source": [
    "Nos centramos ahora en los atributos 'winner_rank' y 'loser_rank'. Un jugador puede cambiar de posición en la clasificación constantemente, pero los cambios en el tiempo no suelen ser muy bruscos. Es decir, si en enero de 2003 el jugador está en la 4ª posición raramente en febrero de 2003 estará en la 40ª, a no ser que haya sufrido una lesión o por alguna otra causa justificada. Por tanto, para tratar estos NaNs imputaremos la posición del mismo jugador en la fecha más próxima.\n",
    "\n",
    "Para ello, ordenamos primero los registros por nombre del jugador y fecha, y seguidamente imputamos."
   ]
  },
  {
   "cell_type": "code",
   "execution_count": 57,
   "metadata": {},
   "outputs": [
    {
     "name": "stdout",
     "output_type": "stream",
     "text": [
      "tourney_id          0\n",
      "tourney_name        0\n",
      "surface             0\n",
      "draw_size           0\n",
      "tourney_level       0\n",
      "tourney_date        0\n",
      "match_num           0\n",
      "winner_id           0\n",
      "winner_name         0\n",
      "winner_hand         5\n",
      "winner_ht         373\n",
      "winner_ioc          0\n",
      "winner_age          0\n",
      "loser_id            0\n",
      "loser_name          0\n",
      "loser_hand         24\n",
      "loser_ht         1269\n",
      "loser_ioc           0\n",
      "loser_age          17\n",
      "score               0\n",
      "best_of             0\n",
      "round               0\n",
      "minutes             0\n",
      "w_ace               0\n",
      "w_df                0\n",
      "w_svpt              0\n",
      "w_1stIn             0\n",
      "w_1stWon            0\n",
      "w_2ndWon            0\n",
      "w_SvGms             0\n",
      "w_bpSaved           0\n",
      "w_bpFaced           0\n",
      "l_ace               0\n",
      "l_df                0\n",
      "l_svpt              0\n",
      "l_1stIn             0\n",
      "l_1stWon            0\n",
      "l_2ndWon            0\n",
      "l_SvGms             0\n",
      "l_bpSaved           0\n",
      "l_bpFaced           0\n",
      "winner_rank       209\n",
      "loser_rank        408\n",
      "dtype: int64\n"
     ]
    }
   ],
   "source": [
    "df_sorted = df.sort_values(by=['winner_name', 'tourney_date'])\n",
    "\n",
    "df['winner_rank'] = df_sorted.groupby('winner_name')['winner_rank'].fillna(method='ffill')\n",
    "df['loser_rank'] = df_sorted.groupby('loser_name')['loser_rank'].fillna(method='ffill')\n",
    "\n",
    "print(df.isna().sum())\n",
    "df = df.sort_index()"
   ]
  },
  {
   "attachments": {},
   "cell_type": "markdown",
   "metadata": {},
   "source": [
    "Vemos que siguen habiendo NaNs en ambas variables. Dado que se trata de datos importantes para que el modelo haga las predicciones y representan una fracción muy pequeña de los datos, los eliminamos."
   ]
  },
  {
   "cell_type": "code",
   "execution_count": 58,
   "metadata": {},
   "outputs": [
    {
     "data": {
      "text/plain": [
       "tourney_id          0\n",
       "tourney_name        0\n",
       "surface             0\n",
       "draw_size           0\n",
       "tourney_level       0\n",
       "tourney_date        0\n",
       "match_num           0\n",
       "winner_id           0\n",
       "winner_name         0\n",
       "winner_hand         1\n",
       "winner_ht         321\n",
       "winner_ioc          0\n",
       "winner_age          0\n",
       "loser_id            0\n",
       "loser_name          0\n",
       "loser_hand          5\n",
       "loser_ht         1098\n",
       "loser_ioc           0\n",
       "loser_age           9\n",
       "score               0\n",
       "best_of             0\n",
       "round               0\n",
       "minutes             0\n",
       "w_ace               0\n",
       "w_df                0\n",
       "w_svpt              0\n",
       "w_1stIn             0\n",
       "w_1stWon            0\n",
       "w_2ndWon            0\n",
       "w_SvGms             0\n",
       "w_bpSaved           0\n",
       "w_bpFaced           0\n",
       "l_ace               0\n",
       "l_df                0\n",
       "l_svpt              0\n",
       "l_1stIn             0\n",
       "l_1stWon            0\n",
       "l_2ndWon            0\n",
       "l_SvGms             0\n",
       "l_bpSaved           0\n",
       "l_bpFaced           0\n",
       "winner_rank         0\n",
       "loser_rank          0\n",
       "dtype: int64"
      ]
     },
     "execution_count": 58,
     "metadata": {},
     "output_type": "execute_result"
    }
   ],
   "source": [
    "columns_to_drop_na2 = ['winner_rank', 'loser_rank']\n",
    "\n",
    "df.dropna(subset=columns_to_drop_na2, inplace=True)\n",
    "df.isnull().sum()"
   ]
  },
  {
   "attachments": {},
   "cell_type": "markdown",
   "metadata": {},
   "source": [
    "Seguimos con las variables 'winner_ht' y 'loser_ht'. En este caso imputamos la media del resto de valores."
   ]
  },
  {
   "cell_type": "code",
   "execution_count": 59,
   "metadata": {},
   "outputs": [
    {
     "data": {
      "text/plain": [
       "tourney_id       0\n",
       "tourney_name     0\n",
       "surface          0\n",
       "draw_size        0\n",
       "tourney_level    0\n",
       "tourney_date     0\n",
       "match_num        0\n",
       "winner_id        0\n",
       "winner_name      0\n",
       "winner_hand      1\n",
       "winner_ht        0\n",
       "winner_ioc       0\n",
       "winner_age       0\n",
       "loser_id         0\n",
       "loser_name       0\n",
       "loser_hand       5\n",
       "loser_ht         0\n",
       "loser_ioc        0\n",
       "loser_age        9\n",
       "score            0\n",
       "best_of          0\n",
       "round            0\n",
       "minutes          0\n",
       "w_ace            0\n",
       "w_df             0\n",
       "w_svpt           0\n",
       "w_1stIn          0\n",
       "w_1stWon         0\n",
       "w_2ndWon         0\n",
       "w_SvGms          0\n",
       "w_bpSaved        0\n",
       "w_bpFaced        0\n",
       "l_ace            0\n",
       "l_df             0\n",
       "l_svpt           0\n",
       "l_1stIn          0\n",
       "l_1stWon         0\n",
       "l_2ndWon         0\n",
       "l_SvGms          0\n",
       "l_bpSaved        0\n",
       "l_bpFaced        0\n",
       "winner_rank      0\n",
       "loser_rank       0\n",
       "dtype: int64"
      ]
     },
     "execution_count": 59,
     "metadata": {},
     "output_type": "execute_result"
    }
   ],
   "source": [
    "df['winner_ht'] = df['winner_ht'].transform(lambda x: x.fillna(x.mean()))\n",
    "df['loser_ht'] = df['loser_ht'].transform(lambda x: x.fillna(x.mean()))\n",
    "df.isnull().sum()"
   ]
  },
  {
   "attachments": {},
   "cell_type": "markdown",
   "metadata": {},
   "source": [
    "Por último, nos fijamos en los atributos 'winner_hand', 'loser_hand' y 'loser_age'. Para los primeros sustituimos los NaN por 'U' ('unknown') y para el tercero imputamos la media de edad del resto de jugadores, ya que hay poca desviación en la distribución de los datos (los jugadores tienden a moverse entre un rango concreto de edad). "
   ]
  },
  {
   "cell_type": "code",
   "execution_count": 60,
   "metadata": {},
   "outputs": [
    {
     "data": {
      "text/plain": [
       "tourney_id       0\n",
       "tourney_name     0\n",
       "surface          0\n",
       "draw_size        0\n",
       "tourney_level    0\n",
       "tourney_date     0\n",
       "match_num        0\n",
       "winner_id        0\n",
       "winner_name      0\n",
       "winner_hand      0\n",
       "winner_ht        0\n",
       "winner_ioc       0\n",
       "winner_age       0\n",
       "loser_id         0\n",
       "loser_name       0\n",
       "loser_hand       0\n",
       "loser_ht         0\n",
       "loser_ioc        0\n",
       "loser_age        0\n",
       "score            0\n",
       "best_of          0\n",
       "round            0\n",
       "minutes          0\n",
       "w_ace            0\n",
       "w_df             0\n",
       "w_svpt           0\n",
       "w_1stIn          0\n",
       "w_1stWon         0\n",
       "w_2ndWon         0\n",
       "w_SvGms          0\n",
       "w_bpSaved        0\n",
       "w_bpFaced        0\n",
       "l_ace            0\n",
       "l_df             0\n",
       "l_svpt           0\n",
       "l_1stIn          0\n",
       "l_1stWon         0\n",
       "l_2ndWon         0\n",
       "l_SvGms          0\n",
       "l_bpSaved        0\n",
       "l_bpFaced        0\n",
       "winner_rank      0\n",
       "loser_rank       0\n",
       "dtype: int64"
      ]
     },
     "execution_count": 60,
     "metadata": {},
     "output_type": "execute_result"
    }
   ],
   "source": [
    "df['winner_hand'] = df['winner_hand'].fillna('U')\n",
    "df['loser_hand'] = df['loser_hand'].fillna('U')\n",
    "df['loser_age'] =  df['loser_age'].transform(lambda x: x.fillna(x.mean()))\n",
    "df.isna().sum()"
   ]
  },
  {
   "cell_type": "code",
   "execution_count": 61,
   "metadata": {},
   "outputs": [
    {
     "data": {
      "text/plain": [
       "tourney_id        object\n",
       "tourney_name      object\n",
       "surface           object\n",
       "draw_size          int64\n",
       "tourney_level     object\n",
       "tourney_date       int64\n",
       "match_num          int64\n",
       "winner_id          int64\n",
       "winner_name       object\n",
       "winner_hand       object\n",
       "winner_ht        float64\n",
       "winner_ioc        object\n",
       "winner_age       float64\n",
       "loser_id           int64\n",
       "loser_name        object\n",
       "loser_hand        object\n",
       "loser_ht         float64\n",
       "loser_ioc         object\n",
       "loser_age        float64\n",
       "score             object\n",
       "best_of            int64\n",
       "round             object\n",
       "minutes          float64\n",
       "w_ace            float64\n",
       "w_df             float64\n",
       "w_svpt           float64\n",
       "w_1stIn          float64\n",
       "w_1stWon         float64\n",
       "w_2ndWon         float64\n",
       "w_SvGms          float64\n",
       "w_bpSaved        float64\n",
       "w_bpFaced        float64\n",
       "l_ace            float64\n",
       "l_df             float64\n",
       "l_svpt           float64\n",
       "l_1stIn          float64\n",
       "l_1stWon         float64\n",
       "l_2ndWon         float64\n",
       "l_SvGms          float64\n",
       "l_bpSaved        float64\n",
       "l_bpFaced        float64\n",
       "winner_rank      float64\n",
       "loser_rank       float64\n",
       "dtype: object"
      ]
     },
     "execution_count": 61,
     "metadata": {},
     "output_type": "execute_result"
    }
   ],
   "source": [
    "df.dtypes"
   ]
  },
  {
   "attachments": {},
   "cell_type": "markdown",
   "metadata": {},
   "source": [
    "Una vez tratados todos los NaNs, nos fijamos en el tipo de variable. Es necesario hacer los siguientes cambios:\n",
    "- 'tourney_date': transformarlo al formato fecha y extraer el año.  \n",
    "- 'match_num', 'winner_id', 'loser_id': convertirlos en objectos, ya que son identificadores y no sirven para hacer operaciones aritméticas. Si se guardan como objetos ocupan menos memoria.\n",
    "- Convertir las variables que se almacenan como decimales cuando realmente son números enteros."
   ]
  },
  {
   "cell_type": "code",
   "execution_count": 62,
   "metadata": {},
   "outputs": [
    {
     "data": {
      "text/plain": [
       "tourney_id               object\n",
       "tourney_name             object\n",
       "surface                  object\n",
       "draw_size                 int64\n",
       "tourney_level            object\n",
       "tourney_date     datetime64[ns]\n",
       "match_num                 int64\n",
       "winner_id                 int64\n",
       "winner_name              object\n",
       "winner_hand              object\n",
       "winner_ht               float64\n",
       "winner_ioc               object\n",
       "winner_age              float64\n",
       "loser_id                  int64\n",
       "loser_name               object\n",
       "loser_hand               object\n",
       "loser_ht                float64\n",
       "loser_ioc                object\n",
       "loser_age               float64\n",
       "score                    object\n",
       "best_of                   int64\n",
       "round                    object\n",
       "minutes                 float64\n",
       "w_ace                   float64\n",
       "w_df                    float64\n",
       "w_svpt                  float64\n",
       "w_1stIn                 float64\n",
       "w_1stWon                float64\n",
       "w_2ndWon                float64\n",
       "w_SvGms                 float64\n",
       "w_bpSaved               float64\n",
       "w_bpFaced               float64\n",
       "l_ace                   float64\n",
       "l_df                    float64\n",
       "l_svpt                  float64\n",
       "l_1stIn                 float64\n",
       "l_1stWon                float64\n",
       "l_2ndWon                float64\n",
       "l_SvGms                 float64\n",
       "l_bpSaved               float64\n",
       "l_bpFaced               float64\n",
       "winner_rank             float64\n",
       "loser_rank              float64\n",
       "year                      int64\n",
       "dtype: object"
      ]
     },
     "execution_count": 62,
     "metadata": {},
     "output_type": "execute_result"
    }
   ],
   "source": [
    "df['tourney_date'] = pd.to_datetime(df['tourney_date'], format='%Y%m%d')\n",
    "df['year'] = df['tourney_date'].dt.year\n",
    "df.dtypes"
   ]
  },
  {
   "attachments": {},
   "cell_type": "markdown",
   "metadata": {},
   "source": [
    "Guardamos el dataset limpio en un archivo csv."
   ]
  },
  {
   "cell_type": "code",
   "execution_count": 64,
   "metadata": {},
   "outputs": [],
   "source": [
    "df.to_csv('clean_data.csv')"
   ]
  }
 ],
 "metadata": {
  "kernelspec": {
   "display_name": "base",
   "language": "python",
   "name": "python3"
  },
  "language_info": {
   "codemirror_mode": {
    "name": "ipython",
    "version": 3
   },
   "file_extension": ".py",
   "mimetype": "text/x-python",
   "name": "python",
   "nbconvert_exporter": "python",
   "pygments_lexer": "ipython3",
   "version": "3.10.9"
  },
  "orig_nbformat": 4
 },
 "nbformat": 4,
 "nbformat_minor": 2
}
